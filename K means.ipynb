{
 "cells": [
  {
   "cell_type": "code",
   "execution_count": 1,
   "metadata": {},
   "outputs": [],
   "source": [
    "import numpy as np\n",
    "i = np.random.randint(80000,1200000, size=(1,100))"
   ]
  },
  {
   "cell_type": "code",
   "execution_count": 2,
   "metadata": {},
   "outputs": [],
   "source": [
    "i=[1179195,  689287,  279064,  404057,  868840,  548172,  131553,\n",
    "         151249,  741945,  186043,  730416,  605300,  338550,  187732,\n",
    "         358496,  174365,  711055,  186333,  290454,  722387,  582599,\n",
    "         303573,  564617,  348465, 1179751, 1056766, 1086018,  512089,\n",
    "        1078868,  102202,  363009,  584328, 1165645,  413792,  254539,\n",
    "         922286, 1195334, 1135791,  645601,  925596,  772087,  263950,\n",
    "         668308,  187618,  158422,  803944,  267184,  377493,  712322,\n",
    "         924185,  615803,  100652,   82059, 1055537,  674477,  910731,\n",
    "         841372,  595748,   87393,  674187,  700378,  869370,  314589,\n",
    "         315660,  822903,  768121,  965078,  330756,  591864, 1061768,\n",
    "         346553,  376647,  289014,  120572,  885211,  871600,  105044,\n",
    "         847861,  603707, 1129718,  552439,  993639,  271202,  336652,\n",
    "         734567,  304236,  124966,  743182,  351708,  739425,  515941,\n",
    "          98800,  115009, 1064127, 1026150,  256963,  125660,  247116,\n",
    "         350195, 1024395]"
   ]
  },
  {
   "cell_type": "code",
   "execution_count": 3,
   "metadata": {},
   "outputs": [],
   "source": [
    "r=['SC','ST','OBC','GEN']\n",
    "c=np.random.choice(r, 100, p=[0.25, 0.25,0.25,0.25])"
   ]
  },
  {
   "cell_type": "code",
   "execution_count": 4,
   "metadata": {},
   "outputs": [],
   "source": [
    "c=['ST', 'OBC', 'OBC', 'GEN', 'SC', 'SC', 'GEN', 'GEN', 'ST', 'SC',\n",
    "       'OBC', 'OBC', 'GEN', 'OBC', 'OBC', 'OBC', 'SC', 'SC', 'SC', 'OBC',\n",
    "       'OBC', 'GEN', 'SC', 'ST', 'GEN', 'SC', 'ST', 'OBC', 'ST', 'GEN',\n",
    "       'OBC', 'SC', 'OBC', 'SC', 'OBC', 'GEN', 'ST', 'OBC', 'SC', 'SC',\n",
    "       'OBC', 'ST', 'OBC', 'OBC', 'SC', 'SC', 'ST', 'GEN', 'OBC', 'SC',\n",
    "       'OBC', 'ST', 'ST', 'ST', 'GEN', 'ST', 'ST', 'ST', 'GEN', 'ST',\n",
    "       'OBC', 'GEN', 'SC', 'SC', 'ST', 'GEN', 'ST', 'SC', 'ST', 'GEN',\n",
    "       'ST', 'SC', 'SC', 'ST', 'SC', 'SC', 'GEN', 'SC', 'SC', 'GEN', 'ST',\n",
    "       'ST', 'GEN', 'SC', 'SC', 'GEN', 'SC', 'GEN', 'OBC', 'ST', 'OBC',\n",
    "       'GEN', 'SC', 'ST', 'OBC', 'OBC', 'OBC', 'ST', 'OBC', 'ST']"
   ]
  },
  {
   "cell_type": "code",
   "execution_count": 5,
   "metadata": {},
   "outputs": [],
   "source": [
    "m = np.random.randint(1,100, size=(1,100))"
   ]
  },
  {
   "cell_type": "code",
   "execution_count": 6,
   "metadata": {},
   "outputs": [],
   "source": [
    "m=[67, 40, 14, 39, 92, 13, 44, 63, 61, 34, 45,  5, 74, 13, 25, 69,\n",
    "        76, 56, 83, 50,  2, 42, 57, 29, 50, 45, 36, 52, 51, 91, 56, 56,\n",
    "         7, 79, 61, 71, 58, 35, 83, 61, 79,  8, 88, 50, 50, 80, 17, 24,\n",
    "        93,  6, 30, 84, 93, 64,  1, 27, 35, 82, 63,  5, 27, 83, 19, 64,\n",
    "        55, 55, 24,  2,  3, 30, 86, 87, 60, 73, 78, 10, 79, 98, 31, 30,\n",
    "        80, 66, 60, 38, 30, 65, 49, 51, 36,  7, 97, 64, 53, 54, 80, 45,\n",
    "        93, 31, 11, 84]"
   ]
  },
  {
   "cell_type": "code",
   "execution_count": 7,
   "metadata": {},
   "outputs": [],
   "source": [
    "data={'income':i,'caste':c,'percentile':m}"
   ]
  },
  {
   "cell_type": "code",
   "execution_count": 8,
   "metadata": {},
   "outputs": [],
   "source": [
    "import pandas as pd\n",
    "df=pd.DataFrame(data)"
   ]
  },
  {
   "cell_type": "code",
   "execution_count": 9,
   "metadata": {},
   "outputs": [
    {
     "data": {
      "text/html": [
       "<div>\n",
       "<style scoped>\n",
       "    .dataframe tbody tr th:only-of-type {\n",
       "        vertical-align: middle;\n",
       "    }\n",
       "\n",
       "    .dataframe tbody tr th {\n",
       "        vertical-align: top;\n",
       "    }\n",
       "\n",
       "    .dataframe thead th {\n",
       "        text-align: right;\n",
       "    }\n",
       "</style>\n",
       "<table border=\"1\" class=\"dataframe\">\n",
       "  <thead>\n",
       "    <tr style=\"text-align: right;\">\n",
       "      <th></th>\n",
       "      <th>income</th>\n",
       "      <th>caste</th>\n",
       "      <th>percentile</th>\n",
       "    </tr>\n",
       "  </thead>\n",
       "  <tbody>\n",
       "    <tr>\n",
       "      <td>0</td>\n",
       "      <td>1179195</td>\n",
       "      <td>ST</td>\n",
       "      <td>67</td>\n",
       "    </tr>\n",
       "    <tr>\n",
       "      <td>1</td>\n",
       "      <td>689287</td>\n",
       "      <td>OBC</td>\n",
       "      <td>40</td>\n",
       "    </tr>\n",
       "    <tr>\n",
       "      <td>2</td>\n",
       "      <td>279064</td>\n",
       "      <td>OBC</td>\n",
       "      <td>14</td>\n",
       "    </tr>\n",
       "    <tr>\n",
       "      <td>3</td>\n",
       "      <td>404057</td>\n",
       "      <td>GEN</td>\n",
       "      <td>39</td>\n",
       "    </tr>\n",
       "    <tr>\n",
       "      <td>4</td>\n",
       "      <td>868840</td>\n",
       "      <td>SC</td>\n",
       "      <td>92</td>\n",
       "    </tr>\n",
       "    <tr>\n",
       "      <td>...</td>\n",
       "      <td>...</td>\n",
       "      <td>...</td>\n",
       "      <td>...</td>\n",
       "    </tr>\n",
       "    <tr>\n",
       "      <td>95</td>\n",
       "      <td>256963</td>\n",
       "      <td>OBC</td>\n",
       "      <td>45</td>\n",
       "    </tr>\n",
       "    <tr>\n",
       "      <td>96</td>\n",
       "      <td>125660</td>\n",
       "      <td>OBC</td>\n",
       "      <td>93</td>\n",
       "    </tr>\n",
       "    <tr>\n",
       "      <td>97</td>\n",
       "      <td>247116</td>\n",
       "      <td>ST</td>\n",
       "      <td>31</td>\n",
       "    </tr>\n",
       "    <tr>\n",
       "      <td>98</td>\n",
       "      <td>350195</td>\n",
       "      <td>OBC</td>\n",
       "      <td>11</td>\n",
       "    </tr>\n",
       "    <tr>\n",
       "      <td>99</td>\n",
       "      <td>1024395</td>\n",
       "      <td>ST</td>\n",
       "      <td>84</td>\n",
       "    </tr>\n",
       "  </tbody>\n",
       "</table>\n",
       "<p>100 rows × 3 columns</p>\n",
       "</div>"
      ],
      "text/plain": [
       "     income caste  percentile\n",
       "0   1179195    ST          67\n",
       "1    689287   OBC          40\n",
       "2    279064   OBC          14\n",
       "3    404057   GEN          39\n",
       "4    868840    SC          92\n",
       "..      ...   ...         ...\n",
       "95   256963   OBC          45\n",
       "96   125660   OBC          93\n",
       "97   247116    ST          31\n",
       "98   350195   OBC          11\n",
       "99  1024395    ST          84\n",
       "\n",
       "[100 rows x 3 columns]"
      ]
     },
     "execution_count": 9,
     "metadata": {},
     "output_type": "execute_result"
    }
   ],
   "source": [
    "df"
   ]
  },
  {
   "cell_type": "code",
   "execution_count": 10,
   "metadata": {},
   "outputs": [],
   "source": [
    "grades=[]\n",
    "for row in df['income']:\n",
    "        if row >1150000 :    grades.append(20)\n",
    "        elif row > 1100000:  grades.append(39)\n",
    "        elif row > 1050000:  grades.append(42)\n",
    "        elif row > 1000000:  grades.append(49)\n",
    "        elif row > 950000:  grades.append(37)\n",
    "        elif row > 900000:  grades.append(39)\n",
    "        elif row > 850000:  grades.append(42)\n",
    "        elif row > 800000:  grades.append(49)\n",
    "        elif row > 750000:  grades.append(37)\n",
    "        elif row > 700000:  grades.append(40)\n",
    "        elif row > 650000:  grades.append(48)\n",
    "        elif row > 600000:  grades.append(36)\n",
    "        elif row > 550000:  grades.append(42)\n",
    "        elif row > 500000:  grades.append(39)\n",
    "        elif row > 450000:  grades.append(71)\n",
    "        elif row > 400000:  grades.append(82)\n",
    "        elif row > 350000:  grades.append(91)\n",
    "        elif row > 300000:  grades.append(77)\n",
    "        elif row > 250000:  grades.append(80)\n",
    "        elif row > 200000:  grades.append(96)\n",
    "        elif row > 150000:  grades.append(89)\n",
    "        elif row > 100000:  grades.append(92)\n",
    "        elif row > 95000:  grades.append(78)\n",
    "        elif row > 90000:  grades.append(85)\n",
    "        elif row > 85000:  grades.append(97)\n",
    "        elif row > 80000:  grades.append(99)\n",
    "        else:           grades.append(100)"
   ]
  },
  {
   "cell_type": "code",
   "execution_count": 11,
   "metadata": {},
   "outputs": [
    {
     "data": {
      "text/html": [
       "<div>\n",
       "<style scoped>\n",
       "    .dataframe tbody tr th:only-of-type {\n",
       "        vertical-align: middle;\n",
       "    }\n",
       "\n",
       "    .dataframe tbody tr th {\n",
       "        vertical-align: top;\n",
       "    }\n",
       "\n",
       "    .dataframe thead th {\n",
       "        text-align: right;\n",
       "    }\n",
       "</style>\n",
       "<table border=\"1\" class=\"dataframe\">\n",
       "  <thead>\n",
       "    <tr style=\"text-align: right;\">\n",
       "      <th></th>\n",
       "      <th>income</th>\n",
       "      <th>caste</th>\n",
       "      <th>percentile</th>\n",
       "      <th>probability</th>\n",
       "    </tr>\n",
       "  </thead>\n",
       "  <tbody>\n",
       "    <tr>\n",
       "      <td>0</td>\n",
       "      <td>1179195</td>\n",
       "      <td>ST</td>\n",
       "      <td>67</td>\n",
       "      <td>20</td>\n",
       "    </tr>\n",
       "    <tr>\n",
       "      <td>1</td>\n",
       "      <td>689287</td>\n",
       "      <td>OBC</td>\n",
       "      <td>40</td>\n",
       "      <td>48</td>\n",
       "    </tr>\n",
       "    <tr>\n",
       "      <td>2</td>\n",
       "      <td>279064</td>\n",
       "      <td>OBC</td>\n",
       "      <td>14</td>\n",
       "      <td>80</td>\n",
       "    </tr>\n",
       "    <tr>\n",
       "      <td>3</td>\n",
       "      <td>404057</td>\n",
       "      <td>GEN</td>\n",
       "      <td>39</td>\n",
       "      <td>82</td>\n",
       "    </tr>\n",
       "    <tr>\n",
       "      <td>4</td>\n",
       "      <td>868840</td>\n",
       "      <td>SC</td>\n",
       "      <td>92</td>\n",
       "      <td>42</td>\n",
       "    </tr>\n",
       "    <tr>\n",
       "      <td>...</td>\n",
       "      <td>...</td>\n",
       "      <td>...</td>\n",
       "      <td>...</td>\n",
       "      <td>...</td>\n",
       "    </tr>\n",
       "    <tr>\n",
       "      <td>95</td>\n",
       "      <td>256963</td>\n",
       "      <td>OBC</td>\n",
       "      <td>45</td>\n",
       "      <td>80</td>\n",
       "    </tr>\n",
       "    <tr>\n",
       "      <td>96</td>\n",
       "      <td>125660</td>\n",
       "      <td>OBC</td>\n",
       "      <td>93</td>\n",
       "      <td>92</td>\n",
       "    </tr>\n",
       "    <tr>\n",
       "      <td>97</td>\n",
       "      <td>247116</td>\n",
       "      <td>ST</td>\n",
       "      <td>31</td>\n",
       "      <td>96</td>\n",
       "    </tr>\n",
       "    <tr>\n",
       "      <td>98</td>\n",
       "      <td>350195</td>\n",
       "      <td>OBC</td>\n",
       "      <td>11</td>\n",
       "      <td>91</td>\n",
       "    </tr>\n",
       "    <tr>\n",
       "      <td>99</td>\n",
       "      <td>1024395</td>\n",
       "      <td>ST</td>\n",
       "      <td>84</td>\n",
       "      <td>49</td>\n",
       "    </tr>\n",
       "  </tbody>\n",
       "</table>\n",
       "<p>100 rows × 4 columns</p>\n",
       "</div>"
      ],
      "text/plain": [
       "     income caste  percentile  probability\n",
       "0   1179195    ST          67           20\n",
       "1    689287   OBC          40           48\n",
       "2    279064   OBC          14           80\n",
       "3    404057   GEN          39           82\n",
       "4    868840    SC          92           42\n",
       "..      ...   ...         ...          ...\n",
       "95   256963   OBC          45           80\n",
       "96   125660   OBC          93           92\n",
       "97   247116    ST          31           96\n",
       "98   350195   OBC          11           91\n",
       "99  1024395    ST          84           49\n",
       "\n",
       "[100 rows x 4 columns]"
      ]
     },
     "execution_count": 11,
     "metadata": {},
     "output_type": "execute_result"
    }
   ],
   "source": [
    "df['probability']=grades\n",
    "df"
   ]
  },
  {
   "cell_type": "code",
   "execution_count": 20,
   "metadata": {},
   "outputs": [
    {
     "data": {
      "image/png": "[encoded data removed]",
      "text/plain": [
       "<Figure size 432x288 with 1 Axes>"
      ]
     },
     "metadata": {
      "needs_background": "light"
     },
     "output_type": "display_data"
    }
   ],
   "source": [
    "import matplotlib.pyplot as plt\n",
    "dff=df.drop('percentile',axis = 1)\n",
    "plt.scatter(df.income, df.caste, s=20);"
   ]
  },
  {
   "cell_type": "code",
   "execution_count": 13,
   "metadata": {},
   "outputs": [],
   "source": [
    "dff=df.drop('caste',axis = 1)"
   ]
  },
  {
   "cell_type": "code",
   "execution_count": 14,
   "metadata": {},
   "outputs": [],
   "source": [
    "from sklearn.cluster import KMeans\n",
    "kmeans = KMeans(n_clusters=2)\n",
    "kmeans.fit(dff)\n",
    "y_kmeans = kmeans.predict(dff)"
   ]
  },
  {
   "cell_type": "code",
   "execution_count": 21,
   "metadata": {},
   "outputs": [
    {
     "data": {
      "image/png": "[encoded data removed]",
      "text/plain": [
       "<Figure size 432x288 with 1 Axes>"
      ]
     },
     "metadata": {
      "needs_background": "light"
     },
     "output_type": "display_data"
    }
   ],
   "source": [
    "plt.scatter(df.income, df.caste, c=y_kmeans, s=50, cmap='viridis')\n",
    "centers = kmeans.cluster_centers_\n",
    "plt.scatter(centers[:, 0], centers[:, 1], c='black', s=200, alpha=0.1);"
   ]
  },
  {
   "cell_type": "code",
   "execution_count": 16,
   "metadata": {},
   "outputs": [],
   "source": [
    "from sklearn.model_selection import train_test_split\n",
    "x1_train,x1_test=train_test_split(dff,test_size=0.5)"
   ]
  },
  {
   "cell_type": "code",
   "execution_count": 17,
   "metadata": {},
   "outputs": [
    {
     "data": {
      "image/png": "[encoded data removed]",
      "text/plain": [
       "<Figure size 432x288 with 1 Axes>"
      ]
     },
     "metadata": {
      "needs_background": "light"
     },
     "output_type": "display_data"
    }
   ],
   "source": [
    "labels = KMeans(2, random_state=0).fit_predict(x1_test)\n",
    "plt.scatter(x1_test.income, x1_test.probability, c=labels,\n",
    "            s=50, cmap='viridis');"
   ]
  },
  {
   "cell_type": "code",
   "execution_count": 18,
   "metadata": {},
   "outputs": [
    {
     "data": {
      "image/png": "[encoded data removed]",
      "text/plain": [
       "<Figure size 432x288 with 1 Axes>"
      ]
     },
     "metadata": {
      "needs_background": "light"
     },
     "output_type": "display_data"
    }
   ],
   "source": [
    "from sklearn.cluster import SpectralClustering\n",
    "model = SpectralClustering(n_clusters=2, affinity='nearest_neighbors',\n",
    "                           assign_labels='kmeans')\n",
    "labels = model.fit_predict(x1_test)\n",
    "plt.scatter(x1_test.income, x1_test.probability, c=labels,\n",
    "            s=50, cmap='viridis');"
   ]
  },
  {
   "cell_type": "code",
   "execution_count": null,
   "metadata": {},
   "outputs": [],
   "source": []
  }
 ],
 "metadata": {
  "kernelspec": {
   "display_name": "Python 3",
   "language": "python",
   "name": "python3"
  },
  "language_info": {
   "codemirror_mode": {
    "name": "ipython",
    "version": 3
   },
   "file_extension": ".py",
   "mimetype": "text/x-python",
   "name": "python",
   "nbconvert_exporter": "python",
   "pygments_lexer": "ipython3",
   "version": "3.7.4"
  }
 },
 "nbformat": 4,
 "nbformat_minor": 2
}
